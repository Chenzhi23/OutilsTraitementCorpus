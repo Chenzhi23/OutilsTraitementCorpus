{
 "cells": [
  {
   "cell_type": "code",
   "execution_count": 6,
   "metadata": {},
   "outputs": [
    {
     "name": "stdout",
     "output_type": "stream",
     "text": [
      "Title: L’acquisition du langage chez le bébé commence avant la naissance\n",
      "Rubriques et services du Figaro\n",
      "Le Figaro\n",
      "Rubriques et services du Figaro\n",
      "Nos journaux et magazines\n",
      "Les sites du Groupe Figaro\n",
      "Bien avant ses premiers gazouillis, le nouveau-né possède déjà des compétences spécifiques pour apprendre sa langue maternelle. Quand et comment les acquiert-il ? Une équipe de chercheurs, dont des Français, apportent des éléments de réponse.\n",
      "Apprendre une langue étrangère n’est pas chose aisée. Pourtant, lorsqu’il est question de sa langue maternelle, l’acquisition se fait très rapidement et sans effort dès les premiers mois de la vie. Cet apprentissage est d’autant plus facile que l’enfant nourrit une préférence naturelle pour la voix de sa mère. Cependant, comme l’ont suggéré plusieurs études, l’imprégnation linguistique du nourrisson ne prendrait pas racine à la naissance. Elle débuterait en réalité bien avant cela.\n",
      "On sait depuis longtemps que les bébés entendent leurs premiers sons dans le ventre de leur mère. Bercés par ces signaux sonores, ils seraient d’ores et déjà capables de reconnaître les sonorités et les rythmes subtils de leur langue maternelle. Mais comment cette expérience prénatale prépare-t-elle le terrain à l’apprentissage ? Quelle influence a-t-elle sur le cerveau en développement ? Maigres sont les connaissances à ce sujet. En étudiant l’activité neuronale de nouveau-nés, une équipe menée par…\n",
      "\n",
      "        Cet article est réservé aux abonnés.        Il vous reste 81% à découvrir.\n",
      "\n",
      "Vente Flash\n",
      "4,49€/mois pendant 12 mois\n",
      "\n",
      "                Déjà abonné ?                \n",
      "                    Connectez-vous\n",
      "                \n",
      "\n",
      "L’acquisition du langage chez le bébé commence avant la naissance\n",
      "Partager via :\n",
      "Plus d'options\n",
      "anonyme                                \n",
      "\n",
      "                            le 19/12/2023 à 23:44\n",
      "Tput ceci démonté es arguments fallacieux des partisans de la GPA, qui nient le lien mère enfant pendant la grossesse et plus encore de l'avortement.\n",
      "anonyme                                \n",
      "\n",
      "                            le 19/12/2023 à 23:41\n",
      "J'ai toujours parlé à mes enfants, dès que j'ai su que j'étais enceinte. Je partageais tout, je les rassurais, je leur expliquais les bruits, les sensations de chaleur, le temps qu'il faisait, etc. Les jours où mon coeur battait plus vite, ceux où trés fatiguée, je le sentais très lent. Quand ils dont nés, tous desvle premier jour, savaient écouter, comprendre. Partager. C'était il y a plus de 30 ans mais je me souviens de ces moments enchantés.\n",
      "ROLANDS                                \n",
      "\n",
      "                            le 25/11/2023 à 17:17\n",
      "Et dire que certains affirment, qu'avant sa naissance , le bébé n'est qu'un amas de cellules ! Que l'on peut supprimer à volonté !\n",
      "\n",
      "    REPORTAGE - Près de Lyon, ce centre prend soin d’une faune sauvage de plus en plus vulnérable en raison du changement climatique.\n",
      "\n",
      "RÉCIT - Un morceau de l’enceinte datant du Haut Empire romain a été mis au jour dans l’ancienne capitale de la Gaule romaine.\n",
      "\n",
      "\n",
      "    Avec un lancement toujours prévu en début d’été en Guyane, l’Europe espère effectuer enfin son retour dans un marché largement dominé par SpaceX.\n",
      "\n",
      "Le Figaro\n",
      "Les articles en illimité à partir de 0,99€ sans engagement\n"
     ]
    }
   ],
   "source": [
    "import requests\n",
    "from bs4 import BeautifulSoup\n",
    "\n",
    "# lien du web\n",
    "url = 'https://www.lefigaro.fr/sciences/l-acquisition-du-langage-chez-le-bebe-commence-avant-la-naissance-20231124'\n",
    "\n",
    "# envoyer la requete\n",
    "response = requests.get(url)\n",
    "\n",
    "soup = BeautifulSoup(response.text, 'html.parser')\n",
    "\n",
    "# tirer la title\n",
    "title = soup.find('title').text\n",
    "print('Title:', title)\n",
    "\n",
    "# chercher tous les <p>\n",
    "paragraphs = soup.find_all('p')\n",
    "\n",
    "# parcourir tous les <p>，le print\n",
    "for p in paragraphs:\n",
    "    print(p.text)\n"
   ]
  }
 ],
 "metadata": {
  "kernelspec": {
   "display_name": "Python 3",
   "language": "python",
   "name": "python3"
  },
  "language_info": {
   "codemirror_mode": {
    "name": "ipython",
    "version": 3
   },
   "file_extension": ".py",
   "mimetype": "text/x-python",
   "name": "python",
   "nbconvert_exporter": "python",
   "pygments_lexer": "ipython3",
   "version": "3.11.7"
  }
 },
 "nbformat": 4,
 "nbformat_minor": 2
}
